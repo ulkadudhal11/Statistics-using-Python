{
 "cells": [
  {
   "cell_type": "markdown",
   "metadata": {},
   "source": [
    "# Content:\n",
    "   * Methods\n",
    "   * Bernoulli distribution\n",
    "   * Binomial distribution\n",
    "   * Poisson distribution\n",
    "   * Negative Binomial distribution\n",
    "   * Normal distribution\n",
    "   * Exponential distribution"
   ]
  },
  {
   "cell_type": "markdown",
   "metadata": {},
   "source": [
    "## Methods\n",
    "- pmf/pdf=Probability mass/density function\n",
    "- cdf=Cumulative distribution function\n",
    "- stats=Mean, variance, skew, kurtosis\n",
    "- rvs=Random samples"
   ]
  },
  {
   "cell_type": "markdown",
   "metadata": {},
   "source": [
    "## Bernoulli distribution"
   ]
  },
  {
   "cell_type": "code",
   "execution_count": 1,
   "metadata": {},
   "outputs": [],
   "source": [
    "# Library\n",
    "import numpy as np\n",
    "from scipy.stats import bernoulli\n",
    "import matplotlib.pyplot as plt\n",
    "%matplotlib inline"
   ]
  },
  {
   "cell_type": "code",
   "execution_count": 5,
   "metadata": {},
   "outputs": [
    {
     "data": {
      "text/plain": [
       "array([0.3, 0.7])"
      ]
     },
     "execution_count": 5,
     "metadata": {},
     "output_type": "execute_result"
    }
   ],
   "source": [
    "p=0.3;\n",
    "x=[1,0]\n",
    "bernoulli.pmf(x,p)"
   ]
  },
  {
   "cell_type": "code",
   "execution_count": 6,
   "metadata": {},
   "outputs": [
    {
     "data": {
      "text/plain": [
       "array([1. , 0.7])"
      ]
     },
     "execution_count": 6,
     "metadata": {},
     "output_type": "execute_result"
    }
   ],
   "source": [
    "bernoulli.cdf(x,p)"
   ]
  },
  {
   "cell_type": "code",
   "execution_count": 4,
   "metadata": {},
   "outputs": [
    {
     "name": "stdout",
     "output_type": "stream",
     "text": [
      "0.3\n",
      "0.21\n",
      "0.8728715609439694\n",
      "-1.2380952380952381\n"
     ]
    }
   ],
   "source": [
    "mean, var, skew, kurt = bernoulli.stats(p, moments='mvsk')\n",
    "print(mean)\n",
    "print(var)\n",
    "print(skew)\n",
    "print(kurt)"
   ]
  },
  {
   "cell_type": "code",
   "execution_count": 7,
   "metadata": {},
   "outputs": [
    {
     "data": {
      "text/plain": [
       "array([0, 0, 0, 0, 0, 0, 0, 0, 1, 1])"
      ]
     },
     "execution_count": 7,
     "metadata": {},
     "output_type": "execute_result"
    }
   ],
   "source": [
    "bernoulli.rvs(p,size=10)"
   ]
  },
  {
   "cell_type": "code",
   "execution_count": 8,
   "metadata": {},
   "outputs": [
    {
     "data": {
      "image/png": "[encoded data removed]",
      "text/plain": [
       "<Figure size 432x288 with 1 Axes>"
      ]
     },
     "metadata": {
      "needs_background": "light"
     },
     "output_type": "display_data"
    }
   ],
   "source": [
    "plt.plot(x,bernoulli.pmf(x,p),ls=\"\",marker=\"s\",color='g')\n",
    "plt.xlabel('x')\n",
    "plt.ylabel('Prob')\n",
    "plt.title('PMF of Bernoulli')\n",
    "plt.show()"
   ]
  },
  {
   "cell_type": "code",
   "execution_count": 9,
   "metadata": {},
   "outputs": [
    {
     "data": {
      "image/png": "[encoded data removed]",
      "text/plain": [
       "<Figure size 432x288 with 1 Axes>"
      ]
     },
     "metadata": {
      "needs_background": "light"
     },
     "output_type": "display_data"
    }
   ],
   "source": [
    "# generate bernoulli\n",
    "data_bern = bernoulli.rvs(size=1000, p=0.7)\n",
    "plt.hist(data_bern,color='r') # add color='green',bins=20\n",
    "plt.xlabel('x')\n",
    "plt.ylabel('Freq')\n",
    "plt.title('histogram')\n",
    "plt.show()"
   ]
  },
  {
   "cell_type": "markdown",
   "metadata": {},
   "source": [
    "# Binomial distribution"
   ]
  },
  {
   "cell_type": "code",
   "execution_count": 11,
   "metadata": {},
   "outputs": [],
   "source": [
    "from scipy.stats import binom"
   ]
  },
  {
   "cell_type": "code",
   "execution_count": 12,
   "metadata": {},
   "outputs": [
    {
     "data": {
      "text/plain": [
       "array([ 0,  1,  2,  3,  4,  5,  6,  7,  8,  9, 10])"
      ]
     },
     "execution_count": 12,
     "metadata": {},
     "output_type": "execute_result"
    }
   ],
   "source": [
    "n, p = 10, 0.3\n",
    "x=np.arange(11)\n",
    "x"
   ]
  },
  {
   "cell_type": "code",
   "execution_count": 13,
   "metadata": {},
   "outputs": [
    {
     "data": {
      "text/plain": [
       "array([2.82475249e-02, 1.21060821e-01, 2.33474441e-01, 2.66827932e-01,\n",
       "       2.00120949e-01, 1.02919345e-01, 3.67569090e-02, 9.00169200e-03,\n",
       "       1.44670050e-03, 1.37781000e-04, 5.90490000e-06])"
      ]
     },
     "execution_count": 13,
     "metadata": {},
     "output_type": "execute_result"
    }
   ],
   "source": [
    "binom.pmf(x,n,p)"
   ]
  },
  {
   "cell_type": "code",
   "execution_count": 14,
   "metadata": {},
   "outputs": [
    {
     "data": {
      "text/plain": [
       "array([0.02824752, 0.14930835, 0.38278279, 0.64961072, 0.84973167,\n",
       "       0.95265101, 0.98940792, 0.99840961, 0.99985631, 0.9999941 ,\n",
       "       1.        ])"
      ]
     },
     "execution_count": 14,
     "metadata": {},
     "output_type": "execute_result"
    }
   ],
   "source": [
    "binom.cdf(x,n,p)"
   ]
  },
  {
   "cell_type": "code",
   "execution_count": 15,
   "metadata": {},
   "outputs": [
    {
     "name": "stdout",
     "output_type": "stream",
     "text": [
      "3.0\n",
      "2.0999999999999996\n",
      "0.27602622373694174\n",
      "-0.12380952380952373\n"
     ]
    }
   ],
   "source": [
    "mean, var, skew, kurt = binom.stats(n, p, moments='mvsk')\n",
    "print(mean)\n",
    "print(var)\n",
    "print(skew)\n",
    "print(kurt)"
   ]
  },
  {
   "cell_type": "code",
   "execution_count": 16,
   "metadata": {},
   "outputs": [
    {
     "data": {
      "text/plain": [
       "array([3, 2, 4, 4, 3, 2, 5, 2, 2, 4, 3, 2, 2, 4, 5])"
      ]
     },
     "execution_count": 16,
     "metadata": {},
     "output_type": "execute_result"
    }
   ],
   "source": [
    "binom.rvs(n,p,size=15)"
   ]
  },
  {
   "cell_type": "code",
   "execution_count": 17,
   "metadata": {},
   "outputs": [
    {
     "data": {
      "image/png": "[encoded data removed]",
      "text/plain": [
       "<Figure size 432x288 with 1 Axes>"
      ]
     },
     "metadata": {
      "needs_background": "light"
     },
     "output_type": "display_data"
    }
   ],
   "source": [
    "plt.plot(x,binom.pmf(x,n,p),\"--\",marker='s')\n",
    "plt.xlabel('x')\n",
    "plt.ylabel('Prob')\n",
    "plt.title('PMF of Binomial')\n",
    "plt.show()"
   ]
  },
  {
   "cell_type": "code",
   "execution_count": 18,
   "metadata": {},
   "outputs": [
    {
     "data": {
      "image/png": "[encoded data removed]",
      "text/plain": [
       "<Figure size 432x288 with 1 Axes>"
      ]
     },
     "metadata": {
      "needs_background": "light"
     },
     "output_type": "display_data"
    }
   ],
   "source": [
    "data_binom = binom.rvs(size=5000, n=10,p=0.3)\n",
    "plt.hist(data_binom) # add color='green',bins=20\n",
    "plt.xlabel('x')\n",
    "plt.ylabel('Freq')\n",
    "plt.title('histogram')\n",
    "plt.show()"
   ]
  },
  {
   "cell_type": "markdown",
   "metadata": {},
   "source": [
    "## Poisson distribution"
   ]
  },
  {
   "cell_type": "code",
   "execution_count": 19,
   "metadata": {},
   "outputs": [],
   "source": [
    "from scipy.stats import poisson"
   ]
  },
  {
   "cell_type": "code",
   "execution_count": 20,
   "metadata": {},
   "outputs": [
    {
     "data": {
      "text/plain": [
       "array([ 0,  1,  2,  3,  4,  5,  6,  7,  8,  9, 10, 11, 12, 13, 14, 15, 16,\n",
       "       17, 18, 19])"
      ]
     },
     "execution_count": 20,
     "metadata": {},
     "output_type": "execute_result"
    }
   ],
   "source": [
    "rate=2.5\n",
    "x=np.arange(20)\n",
    "x"
   ]
  },
  {
   "cell_type": "code",
   "execution_count": 21,
   "metadata": {},
   "outputs": [
    {
     "data": {
      "text/plain": [
       "array([8.20849986e-02, 2.05212497e-01, 2.56515621e-01, 2.13763017e-01,\n",
       "       1.33601886e-01, 6.68009429e-02, 2.78337262e-02, 9.94061650e-03,\n",
       "       3.10644266e-03, 8.62900738e-04, 2.15725184e-04, 4.90284510e-05,\n",
       "       1.02142606e-05, 1.96428089e-06, 3.50764445e-07, 5.84607408e-08,\n",
       "       9.13449075e-09, 1.34330746e-09, 1.86570481e-10, 2.45487475e-11])"
      ]
     },
     "execution_count": 21,
     "metadata": {},
     "output_type": "execute_result"
    }
   ],
   "source": [
    "poisson.pmf(x,rate)"
   ]
  },
  {
   "cell_type": "code",
   "execution_count": 22,
   "metadata": {},
   "outputs": [
    {
     "data": {
      "text/plain": [
       "array([0.082085  , 0.2872975 , 0.54381312, 0.75757613, 0.89117802,\n",
       "       0.95797896, 0.98581269, 0.9957533 , 0.99885975, 0.99972265,\n",
       "       0.99993837, 0.9999874 , 0.99999762, 0.99999958, 0.99999993,\n",
       "       0.99999999, 1.        , 1.        , 1.        , 1.        ])"
      ]
     },
     "execution_count": 22,
     "metadata": {},
     "output_type": "execute_result"
    }
   ],
   "source": [
    "poisson.cdf(x,rate)"
   ]
  },
  {
   "cell_type": "code",
   "execution_count": null,
   "metadata": {},
   "outputs": [],
   "source": [
    "mean, var, skew, kurt = poisson.stats(rate, moments='mvsk')\n",
    "print(mean)\n",
    "print(var)\n",
    "print(skew)\n",
    "print(kurt)"
   ]
  },
  {
   "cell_type": "code",
   "execution_count": null,
   "metadata": {},
   "outputs": [],
   "source": [
    "poisson.rvs(mu=rate,size=20)"
   ]
  },
  {
   "cell_type": "code",
   "execution_count": null,
   "metadata": {},
   "outputs": [],
   "source": [
    "plt.plot(x,poisson.pmf(x,rate),\"-\",marker='s')\n",
    "plt.xlabel('x')\n",
    "plt.ylabel('Prob')\n",
    "plt.title('PMF of Poisson')\n",
    "plt.show()"
   ]
  },
  {
   "cell_type": "code",
   "execution_count": null,
   "metadata": {},
   "outputs": [],
   "source": [
    "data_pois = poisson.rvs(rate,size=10000)\n",
    "plt.hist(data_pois) # add color='green',bins=20\n",
    "plt.xlabel('x')\n",
    "plt.ylabel('Freq')\n",
    "plt.title('histogram')\n",
    "plt.show()"
   ]
  },
  {
   "cell_type": "markdown",
   "metadata": {},
   "source": [
    "## Negative Binomial distribution"
   ]
  },
  {
   "cell_type": "markdown",
   "metadata": {},
   "source": [
    "## Its your turn...!!!"
   ]
  },
  {
   "cell_type": "markdown",
   "metadata": {},
   "source": [
    "## Normal distribution"
   ]
  },
  {
   "cell_type": "code",
   "execution_count": null,
   "metadata": {},
   "outputs": [],
   "source": [
    "from scipy.stats import norm"
   ]
  },
  {
   "cell_type": "code",
   "execution_count": null,
   "metadata": {},
   "outputs": [],
   "source": [
    "x=np.linspace(-3,3,100)\n",
    "x"
   ]
  },
  {
   "cell_type": "code",
   "execution_count": null,
   "metadata": {},
   "outputs": [],
   "source": [
    "norm.pdf(x) #loc=2,scale=0.5"
   ]
  },
  {
   "cell_type": "code",
   "execution_count": null,
   "metadata": {},
   "outputs": [],
   "source": [
    "norm.cdf(x)"
   ]
  },
  {
   "cell_type": "code",
   "execution_count": null,
   "metadata": {},
   "outputs": [],
   "source": [
    "mean, var, skew, kurt = norm.stats(loc=2,scale=1, moments='mvsk')\n",
    "print(mean)\n",
    "print(var)\n",
    "print(skew)\n",
    "print(kurt)"
   ]
  },
  {
   "cell_type": "code",
   "execution_count": null,
   "metadata": {},
   "outputs": [],
   "source": [
    "norm.rvs(size=10) #loc=2,scale=3"
   ]
  },
  {
   "cell_type": "code",
   "execution_count": null,
   "metadata": {},
   "outputs": [],
   "source": [
    "plt.plot(x,norm.pdf(x,loc=0,scale=1))#,\"o-\",marker='s')\n",
    "plt.xlabel('x')\n",
    "plt.ylabel('Prob')\n",
    "plt.title('PDF of Normal')\n",
    "plt.show()"
   ]
  },
  {
   "cell_type": "code",
   "execution_count": null,
   "metadata": {},
   "outputs": [],
   "source": [
    "data_norm = norm.rvs(size=10000)\n",
    "plt.hist(data_norm,bins=20) # add color='green',bins=20\n",
    "plt.xlabel('x')\n",
    "plt.ylabel('Freq')\n",
    "plt.title('histogram')\n",
    "plt.show()"
   ]
  },
  {
   "cell_type": "markdown",
   "metadata": {},
   "source": [
    "## Exponential distribution"
   ]
  },
  {
   "cell_type": "markdown",
   "metadata": {},
   "source": [
    "## Its your turn...!!!"
   ]
  },
  {
   "cell_type": "markdown",
   "metadata": {},
   "source": [
    "### Refer https://docs.scipy.org/doc/scipy/reference/stats.html for more probability distributions"
   ]
  },
  {
   "cell_type": "code",
   "execution_count": null,
   "metadata": {},
   "outputs": [],
   "source": []
  }
 ],
 "metadata": {
  "kernelspec": {
   "display_name": "Python 3 (ipykernel)",
   "language": "python",
   "name": "python3"
  },
  "language_info": {
   "codemirror_mode": {
    "name": "ipython",
    "version": 3
   },
   "file_extension": ".py",
   "mimetype": "text/x-python",
   "name": "python",
   "nbconvert_exporter": "python",
   "pygments_lexer": "ipython3",
   "version": "3.8.8"
  }
 },
 "nbformat": 4,
 "nbformat_minor": 2
}
